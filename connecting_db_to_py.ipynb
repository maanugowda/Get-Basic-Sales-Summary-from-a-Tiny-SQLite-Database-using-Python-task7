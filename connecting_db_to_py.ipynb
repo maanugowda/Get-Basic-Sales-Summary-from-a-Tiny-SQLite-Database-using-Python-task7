{
  "nbformat": 4,
  "nbformat_minor": 0,
  "metadata": {
    "colab": {
      "provenance": [],
      "toc_visible": true,
      "authorship_tag": "ABX9TyMYzacn/ffa7lw/qD4slOC0",
      "include_colab_link": true
    },
    "kernelspec": {
      "name": "python3",
      "display_name": "Python 3"
    },
    "language_info": {
      "name": "python"
    }
  },
  "cells": [
    {
      "cell_type": "markdown",
      "metadata": {
        "id": "view-in-github",
        "colab_type": "text"
      },
      "source": [
        "<a href=\"https://colab.research.google.com/github/maanugowda/Get-Basic-Sales-Summary-from-a-Tiny-SQLite-Database-using-Python-task7/blob/main/connecting_db_to_py.ipynb\" target=\"_parent\"><img src=\"https://colab.research.google.com/assets/colab-badge.svg\" alt=\"Open In Colab\"/></a>"
      ]
    },
    {
      "cell_type": "code",
      "execution_count": 1,
      "metadata": {
        "colab": {
          "base_uri": "https://localhost:8080/"
        },
        "id": "SS4f7tSM-hd7",
        "outputId": "e73fccab-9294-4491-9206-92029559b57f"
      },
      "outputs": [
        {
          "output_type": "stream",
          "name": "stdout",
          "text": [
            "Successfully connected to/created database: sales_data.db\n",
            "Table 'sales' created or already exists.\n",
            "Inserted 5 sample sales records.\n",
            "\n",
            "Verifying data in 'sales' table:\n",
            "(1, 'Laptop', 2, 1200.0, '2025-01-15')\n",
            "(2, 'Mouse', 5, 25.0, '2025-01-15')\n",
            "(3, 'Keyboard', 3, 75.0, '2025-01-16')\n",
            "(4, 'Monitor', 2, 300.0, '2025-01-17')\n",
            "(5, 'Headphones', 4, 150.0, '2025-01-19')\n",
            "\n",
            "Database connection closed. 'sales_data.db' is ready!\n"
          ]
        }
      ],
      "source": [
        "import sqlite3\n",
        "import os\n",
        "\n",
        "# Define the database file name\n",
        "db_file = 'sales_data.db'\n",
        "\n",
        "# --- 1. Remove existing database file (optional, for clean re-runs) ---\n",
        "if os.path.exists(db_file):\n",
        "    os.remove(db_file)\n",
        "    print(f\"Removed existing database file: {db_file}\")\n",
        "\n",
        "# --- 2. Connect to SQLite database ---\n",
        "# This line will create the 'sales_data.db' file if it doesn't exist.\n",
        "conn = sqlite3.connect(db_file)\n",
        "cursor = conn.cursor()\n",
        "\n",
        "print(f\"Successfully connected to/created database: {db_file}\")\n",
        "\n",
        "# --- 3. Create the 'sales' table ---\n",
        "# The table will have columns: id, product, quantity, price, and sale_date.\n",
        "cursor.execute('''\n",
        "    CREATE TABLE IF NOT EXISTS sales (\n",
        "        id INTEGER PRIMARY KEY AUTOINCREMENT,\n",
        "        product TEXT NOT NULL,\n",
        "        quantity INTEGER NOT NULL,\n",
        "        price REAL NOT NULL,\n",
        "        sale_date TEXT NOT NULL -- Storing date as TEXT (YYYY-MM-DD format) is common in SQLite\n",
        "    );\n",
        "''')\n",
        "print(\"Table 'sales' created or already exists.\")\n",
        "\n",
        "# --- 4. Insert some sample data ---\n",
        "sample_data = [\n",
        "    ('Laptop', 2, 1200.00, '2025-01-15'),\n",
        "    ('Mouse', 5, 25.00, '2025-01-15'),\n",
        "    ('Keyboard', 3, 75.00, '2025-01-16'),\n",
        "    ('Monitor', 2, 300.00, '2025-01-17'),\n",
        "    ('Headphones', 4, 150.00, '2025-01-19'),\n",
        "]\n",
        "\n",
        "cursor.executemany(\"INSERT INTO sales (product, quantity, price, sale_date) VALUES (?, ?, ?, ?);\", sample_data)\n",
        "conn.commit() # Commit the changes to save the inserted data to the database file\n",
        "print(f\"Inserted {len(sample_data)} sample sales records.\")\n",
        "\n",
        "# --- 5. Verify data (optional) ---\n",
        "print(\"\\nVerifying data in 'sales' table:\")\n",
        "cursor.execute(\"SELECT * FROM sales;\")\n",
        "rows = cursor.fetchall()\n",
        "for row in rows:\n",
        "    print(row)\n",
        "\n",
        "# --- 6. Close the database connection ---\n",
        "conn.close()\n",
        "print(\"\\nDatabase connection closed. 'sales_data.db' is ready!\")"
      ]
    },
    {
      "cell_type": "code",
      "source": [],
      "metadata": {
        "id": "oQcQQi9nYu14"
      },
      "execution_count": null,
      "outputs": []
    }
  ]
}